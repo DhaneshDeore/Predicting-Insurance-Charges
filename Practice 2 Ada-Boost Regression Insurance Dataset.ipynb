{
 "cells": [
  {
   "cell_type": "code",
   "execution_count": 1,
   "id": "96910d42",
   "metadata": {},
   "outputs": [],
   "source": [
    "import pandas as pd \n",
    "import numpy as np \n",
    "from sklearn.ensemble import AdaBoostRegressor\n",
    "from sklearn.model_selection import train_test_split \n",
    "from sklearn.metrics import mean_absolute_error, mean_squared_error, r2_score\n",
    "from sklearn import metrics \n",
    "import warnings \n",
    "warnings.filterwarnings('ignore')"
   ]
  },
  {
   "cell_type": "markdown",
   "id": "28f18c8d",
   "metadata": {},
   "source": [
    "By using Ada-Boost Regression, We are predicting the Charges on the basis\n",
    "of different attributes."
   ]
  },
  {
   "cell_type": "code",
   "execution_count": 2,
   "id": "e80a430f",
   "metadata": {},
   "outputs": [
    {
     "data": {
      "text/html": [
       "<div>\n",
       "<style scoped>\n",
       "    .dataframe tbody tr th:only-of-type {\n",
       "        vertical-align: middle;\n",
       "    }\n",
       "\n",
       "    .dataframe tbody tr th {\n",
       "        vertical-align: top;\n",
       "    }\n",
       "\n",
       "    .dataframe thead th {\n",
       "        text-align: right;\n",
       "    }\n",
       "</style>\n",
       "<table border=\"1\" class=\"dataframe\">\n",
       "  <thead>\n",
       "    <tr style=\"text-align: right;\">\n",
       "      <th></th>\n",
       "      <th>age</th>\n",
       "      <th>sex</th>\n",
       "      <th>bmi</th>\n",
       "      <th>children</th>\n",
       "      <th>smoker</th>\n",
       "      <th>region</th>\n",
       "      <th>charges</th>\n",
       "    </tr>\n",
       "  </thead>\n",
       "  <tbody>\n",
       "    <tr>\n",
       "      <th>0</th>\n",
       "      <td>19</td>\n",
       "      <td>female</td>\n",
       "      <td>27.900</td>\n",
       "      <td>0</td>\n",
       "      <td>yes</td>\n",
       "      <td>southwest</td>\n",
       "      <td>16884.92400</td>\n",
       "    </tr>\n",
       "    <tr>\n",
       "      <th>1</th>\n",
       "      <td>18</td>\n",
       "      <td>male</td>\n",
       "      <td>33.770</td>\n",
       "      <td>1</td>\n",
       "      <td>no</td>\n",
       "      <td>southeast</td>\n",
       "      <td>1725.55230</td>\n",
       "    </tr>\n",
       "    <tr>\n",
       "      <th>2</th>\n",
       "      <td>28</td>\n",
       "      <td>male</td>\n",
       "      <td>33.000</td>\n",
       "      <td>3</td>\n",
       "      <td>no</td>\n",
       "      <td>southeast</td>\n",
       "      <td>4449.46200</td>\n",
       "    </tr>\n",
       "    <tr>\n",
       "      <th>3</th>\n",
       "      <td>33</td>\n",
       "      <td>male</td>\n",
       "      <td>22.705</td>\n",
       "      <td>0</td>\n",
       "      <td>no</td>\n",
       "      <td>northwest</td>\n",
       "      <td>21984.47061</td>\n",
       "    </tr>\n",
       "    <tr>\n",
       "      <th>4</th>\n",
       "      <td>32</td>\n",
       "      <td>male</td>\n",
       "      <td>28.880</td>\n",
       "      <td>0</td>\n",
       "      <td>no</td>\n",
       "      <td>northwest</td>\n",
       "      <td>3866.85520</td>\n",
       "    </tr>\n",
       "  </tbody>\n",
       "</table>\n",
       "</div>"
      ],
      "text/plain": [
       "   age     sex     bmi  children smoker     region      charges\n",
       "0   19  female  27.900         0    yes  southwest  16884.92400\n",
       "1   18    male  33.770         1     no  southeast   1725.55230\n",
       "2   28    male  33.000         3     no  southeast   4449.46200\n",
       "3   33    male  22.705         0     no  northwest  21984.47061\n",
       "4   32    male  28.880         0     no  northwest   3866.85520"
      ]
     },
     "execution_count": 2,
     "metadata": {},
     "output_type": "execute_result"
    }
   ],
   "source": [
    "df=pd.read_csv('insurance.csv')\n",
    "df.head() "
   ]
  },
  {
   "cell_type": "code",
   "execution_count": 3,
   "id": "7b813e62",
   "metadata": {},
   "outputs": [
    {
     "name": "stdout",
     "output_type": "stream",
     "text": [
      "<class 'pandas.core.frame.DataFrame'>\n",
      "RangeIndex: 1338 entries, 0 to 1337\n",
      "Data columns (total 7 columns):\n",
      " #   Column    Non-Null Count  Dtype  \n",
      "---  ------    --------------  -----  \n",
      " 0   age       1338 non-null   int64  \n",
      " 1   sex       1338 non-null   object \n",
      " 2   bmi       1338 non-null   float64\n",
      " 3   children  1338 non-null   int64  \n",
      " 4   smoker    1338 non-null   object \n",
      " 5   region    1338 non-null   object \n",
      " 6   charges   1338 non-null   float64\n",
      "dtypes: float64(2), int64(2), object(3)\n",
      "memory usage: 73.3+ KB\n"
     ]
    }
   ],
   "source": [
    "df.info() "
   ]
  },
  {
   "cell_type": "code",
   "execution_count": 4,
   "id": "6e0cb0ae",
   "metadata": {},
   "outputs": [
    {
     "data": {
      "text/plain": [
       "array(['female', 'male'], dtype=object)"
      ]
     },
     "execution_count": 4,
     "metadata": {},
     "output_type": "execute_result"
    }
   ],
   "source": [
    "df['sex'].unique() "
   ]
  },
  {
   "cell_type": "code",
   "execution_count": 5,
   "id": "b85cead3",
   "metadata": {},
   "outputs": [],
   "source": [
    "df['sex'].replace({'male':1,'female':0},inplace = True)"
   ]
  },
  {
   "cell_type": "code",
   "execution_count": 6,
   "id": "ef6530f2",
   "metadata": {},
   "outputs": [
    {
     "data": {
      "text/plain": [
       "array(['yes', 'no'], dtype=object)"
      ]
     },
     "execution_count": 6,
     "metadata": {},
     "output_type": "execute_result"
    }
   ],
   "source": [
    "df['smoker'].unique() "
   ]
  },
  {
   "cell_type": "code",
   "execution_count": 7,
   "id": "458e0be0",
   "metadata": {},
   "outputs": [],
   "source": [
    "df['smoker'].replace({'yes':1,'no':0},inplace = True)"
   ]
  },
  {
   "cell_type": "code",
   "execution_count": 11,
   "id": "30af484f",
   "metadata": {},
   "outputs": [],
   "source": [
    "df.drop(['region'],axis=1,inplace=True)"
   ]
  },
  {
   "cell_type": "code",
   "execution_count": 12,
   "id": "8dab4b89",
   "metadata": {},
   "outputs": [
    {
     "name": "stdout",
     "output_type": "stream",
     "text": [
      "<class 'pandas.core.frame.DataFrame'>\n",
      "RangeIndex: 1338 entries, 0 to 1337\n",
      "Data columns (total 6 columns):\n",
      " #   Column    Non-Null Count  Dtype  \n",
      "---  ------    --------------  -----  \n",
      " 0   age       1338 non-null   int64  \n",
      " 1   sex       1338 non-null   int64  \n",
      " 2   bmi       1338 non-null   float64\n",
      " 3   children  1338 non-null   int64  \n",
      " 4   smoker    1338 non-null   int64  \n",
      " 5   charges   1338 non-null   float64\n",
      "dtypes: float64(2), int64(4)\n",
      "memory usage: 62.8 KB\n"
     ]
    }
   ],
   "source": [
    "df.info()  "
   ]
  },
  {
   "cell_type": "code",
   "execution_count": 9,
   "id": "1a14ac77",
   "metadata": {},
   "outputs": [],
   "source": [
    "import matplotlib.pyplot as plt\n",
    "import seaborn as sns"
   ]
  },
  {
   "cell_type": "code",
   "execution_count": 10,
   "id": "d069fe5b",
   "metadata": {},
   "outputs": [
    {
     "data": {
      "text/plain": [
       "<AxesSubplot:>"
      ]
     },
     "execution_count": 10,
     "metadata": {},
     "output_type": "execute_result"
    },
    {
     "data": {
      "image/png": "[encoded data removed]",
      "text/plain": [
       "<Figure size 1008x576 with 2 Axes>"
      ]
     },
     "metadata": {
      "needs_background": "light"
     },
     "output_type": "display_data"
    }
   ],
   "source": [
    "plt.figure(figsize = (14,8))\n",
    "sns.heatmap(df.corr(), annot = True)"
   ]
  },
  {
   "cell_type": "code",
   "execution_count": 13,
   "id": "1dddf3af",
   "metadata": {},
   "outputs": [],
   "source": [
    "x=df.drop(['charges'],axis=1)\n",
    "y=df['charges']"
   ]
  },
  {
   "cell_type": "code",
   "execution_count": 16,
   "id": "09392c94",
   "metadata": {},
   "outputs": [
    {
     "data": {
      "text/plain": [
       "(1338, 5)"
      ]
     },
     "execution_count": 16,
     "metadata": {},
     "output_type": "execute_result"
    }
   ],
   "source": [
    "x.shape"
   ]
  },
  {
   "cell_type": "code",
   "execution_count": 17,
   "id": "4a966540",
   "metadata": {},
   "outputs": [
    {
     "data": {
      "text/plain": [
       "(1338,)"
      ]
     },
     "execution_count": 17,
     "metadata": {},
     "output_type": "execute_result"
    }
   ],
   "source": [
    "y.shape"
   ]
  },
  {
   "cell_type": "code",
   "execution_count": 18,
   "id": "b791a7bd",
   "metadata": {},
   "outputs": [
    {
     "data": {
      "text/plain": [
       "(1070, 5)"
      ]
     },
     "execution_count": 18,
     "metadata": {},
     "output_type": "execute_result"
    }
   ],
   "source": [
    "x_train,x_test,y_train,y_test = train_test_split(x,y, test_size = 0.2, random_state = 1)\n",
    "\n",
    "x_train.shape"
   ]
  },
  {
   "cell_type": "code",
   "execution_count": 19,
   "id": "868550d1",
   "metadata": {},
   "outputs": [
    {
     "data": {
      "text/plain": [
       "AdaBoostRegressor()"
      ]
     },
     "execution_count": 19,
     "metadata": {},
     "output_type": "execute_result"
    }
   ],
   "source": [
    "ada_regr=AdaBoostRegressor() \n",
    "ada_regr.fit(x_train,y_train) "
   ]
  },
  {
   "cell_type": "code",
   "execution_count": 20,
   "id": "8f4f99f8",
   "metadata": {},
   "outputs": [
    {
     "data": {
      "text/plain": [
       "array([ 8242.25368148, 13999.29930081, 13999.29930081, 17038.68339775,\n",
       "        8242.25368148, 43180.86238348, 17038.68339775, 13999.29930081,\n",
       "        8242.25368148, 20511.341839  , 13999.29930081, 17402.26646776,\n",
       "        9952.56866457,  8242.25368148,  8005.52070292, 17038.68339775,\n",
       "        8242.25368148,  9952.56866457, 19695.09485483, 13999.29930081,\n",
       "       13999.29930081, 43180.86238348, 13582.67337038, 13999.29930081,\n",
       "        8005.52070292,  8242.25368148,  9952.56866457, 13999.29930081,\n",
       "        9952.56866457,  8242.25368148, 17402.26646776,  9952.56866457,\n",
       "       26396.62910382, 39343.66229186, 26396.62910382, 13999.29930081,\n",
       "       43180.86238348, 20511.341839  , 13999.29930081, 43407.97221807,\n",
       "        9952.56866457, 13999.29930081, 17402.26646776, 17497.07710296,\n",
       "        9952.56866457, 13999.29930081,  8242.25368148, 43180.86238348,\n",
       "       13999.29930081, 17402.26646776, 13999.29930081, 17402.26646776,\n",
       "        8242.25368148, 15931.32067019, 20511.341839  ,  8559.46394516,\n",
       "       43407.97221807, 13999.29930081,  9952.56866457,  8005.52070292,\n",
       "        8242.25368148, 13999.29930081, 20511.341839  ,  8242.25368148,\n",
       "       13999.29930081, 17038.68339775, 17038.68339775, 17402.26646776,\n",
       "        8242.25368148, 20511.341839  , 43407.97221807, 43180.86238348,\n",
       "        8242.25368148, 17402.26646776, 13999.29930081, 43407.97221807,\n",
       "        8242.25368148,  8242.25368148, 13999.29930081, 17402.26646776,\n",
       "        8242.25368148, 17402.26646776, 17402.26646776,  8242.25368148,\n",
       "       43180.86238348, 39343.66229186,  8242.25368148, 43407.97221807,\n",
       "       17038.68339775,  9952.56866457, 20511.341839  , 26396.62910382,\n",
       "       19695.09485483, 17038.68339775,  8242.25368148, 13999.29930081,\n",
       "       17402.26646776, 17402.26646776, 13999.29930081,  9952.56866457,\n",
       "       13999.29930081, 20511.341839  , 20511.341839  , 39343.66229186,\n",
       "       26396.62910382, 20511.341839  ,  8242.25368148, 15066.85079198,\n",
       "        8005.52070292, 13999.29930081,  8242.25368148,  9952.56866457,\n",
       "        8242.25368148, 19695.09485483,  8242.25368148,  8242.25368148,\n",
       "       11049.73360878, 13999.29930081,  9952.56866457,  8242.25368148,\n",
       "       13999.29930081, 17038.68339775,  8242.25368148, 13582.67337038,\n",
       "       43407.97221807, 17038.68339775, 17402.26646776, 20511.341839  ,\n",
       "       43180.86238348, 15931.32067019, 39343.66229186,  8242.25368148,\n",
       "        9952.56866457, 43180.86238348, 13582.67337038,  8242.25368148,\n",
       "        8242.25368148,  8005.52070292, 13999.29930081, 13582.67337038,\n",
       "       13999.29930081,  9952.56866457, 20511.341839  , 13999.29930081,\n",
       "       17402.26646776, 13999.29930081,  8005.52070292,  9952.56866457,\n",
       "        8005.52070292,  9952.56866457, 15066.85079198,  9952.56866457,\n",
       "       17402.26646776, 17402.26646776, 13999.29930081,  8242.25368148,\n",
       "       17164.27527573, 17164.27527573, 17038.68339775,  8242.25368148,\n",
       "        8242.25368148, 43407.97221807, 17402.26646776,  8242.25368148,\n",
       "        9952.56866457,  8242.25368148, 43180.86238348, 17283.41656485,\n",
       "       13999.29930081,  8242.25368148,  9952.56866457,  8242.25368148,\n",
       "       26396.62910382, 26396.62910382,  8242.25368148,  8242.25368148,\n",
       "        8242.25368148, 20302.14140805,  8242.25368148, 11779.22212169,\n",
       "       13999.29930081, 13999.29930081, 13999.29930081, 11049.73360878,\n",
       "        8242.25368148, 20511.341839  ,  8242.25368148, 17038.68339775,\n",
       "       13582.67337038,  9952.56866457, 19695.09485483, 43407.97221807,\n",
       "        8242.25368148,  8242.25368148,  9952.56866457, 13999.29930081,\n",
       "        9952.56866457,  8242.25368148, 17164.27527573, 15066.85079198,\n",
       "        8242.25368148,  9952.56866457, 17402.26646776,  9952.56866457,\n",
       "        9952.56866457,  8005.52070292,  8242.25368148,  8242.25368148,\n",
       "        8242.25368148, 13999.29930081,  8242.25368148, 26396.62910382,\n",
       "        9952.56866457,  9952.56866457,  9952.56866457, 43407.97221807,\n",
       "       13999.29930081, 39343.66229186,  8005.52070292, 43407.97221807,\n",
       "        8242.25368148, 26396.62910382, 17402.26646776,  9952.56866457,\n",
       "        8242.25368148,  8242.25368148,  8242.25368148,  8242.25368148,\n",
       "       20511.341839  , 13999.29930081,  9952.56866457, 20302.14140805,\n",
       "       43407.97221807,  9952.56866457, 17402.26646776, 13999.29930081,\n",
       "       20511.341839  ,  8242.25368148, 15066.85079198,  8242.25368148,\n",
       "       17038.68339775,  8242.25368148, 19695.09485483,  8242.25368148,\n",
       "       13999.29930081, 26396.62910382,  9952.56866457, 17038.68339775,\n",
       "        8242.25368148, 13999.29930081, 17402.26646776,  8242.25368148,\n",
       "       13999.29930081, 17164.27527573,  8242.25368148,  8242.25368148,\n",
       "       39343.66229186, 20511.341839  ,  8242.25368148, 43407.97221807,\n",
       "       15931.32067019,  8242.25368148, 15066.85079198, 43180.86238348,\n",
       "       43407.97221807, 43407.97221807,  8242.25368148,  8242.25368148])"
      ]
     },
     "execution_count": 20,
     "metadata": {},
     "output_type": "execute_result"
    }
   ],
   "source": [
    "y_pred_test=ada_regr.predict(x_test)\n",
    "y_pred_test "
   ]
  },
  {
   "cell_type": "code",
   "execution_count": 21,
   "id": "c7dfc7a0",
   "metadata": {},
   "outputs": [
    {
     "data": {
      "text/plain": [
       "array([13999.29930081, 17283.41656485,  8005.52070292, ...,\n",
       "       43407.97221807, 20511.341839  , 17402.26646776])"
      ]
     },
     "execution_count": 21,
     "metadata": {},
     "output_type": "execute_result"
    }
   ],
   "source": [
    "y_pred_train=ada_regr.predict(x_train)\n",
    "y_pred_train"
   ]
  },
  {
   "cell_type": "markdown",
   "id": "a3463054",
   "metadata": {},
   "source": [
    "# Testing Dataset Accuracy"
   ]
  },
  {
   "cell_type": "code",
   "execution_count": 28,
   "id": "61932199",
   "metadata": {},
   "outputs": [
    {
     "name": "stdout",
     "output_type": "stream",
     "text": [
      "Mean Squared error: 32349800.63687958\n",
      "5687.688514403683\n"
     ]
    },
    {
     "data": {
      "text/plain": [
       "78.32954044050148"
      ]
     },
     "execution_count": 28,
     "metadata": {},
     "output_type": "execute_result"
    }
   ],
   "source": [
    "y_pred_test = ada_regr.predict(x_test)\n",
    "\n",
    "mse = mean_squared_error(y_test,y_pred_test)\n",
    "print('Mean Squared error:', mse)\n",
    "\n",
    "rmse = np.sqrt(mse)\n",
    "print(rmse)\n",
    "\n",
    "\n",
    "r2_score(y_test,y_pred_test)*100"
   ]
  },
  {
   "cell_type": "markdown",
   "id": "8bee294c",
   "metadata": {},
   "source": [
    "# Training Data Accuracy"
   ]
  },
  {
   "cell_type": "code",
   "execution_count": 29,
   "id": "db4ac4f5",
   "metadata": {},
   "outputs": [
    {
     "name": "stdout",
     "output_type": "stream",
     "text": [
      "31062954.096973818\n",
      "5573.414940319249\n"
     ]
    },
    {
     "data": {
      "text/plain": [
       "78.70196587537042"
      ]
     },
     "execution_count": 29,
     "metadata": {},
     "output_type": "execute_result"
    }
   ],
   "source": [
    "y_pred_train=ada_regr.predict(x_train)\n",
    "\n",
    "mse=mean_squared_error(y_train,y_pred_train)\n",
    "print(mse)\n",
    "\n",
    "rmse=np.sqrt(mse)\n",
    "print(rmse)\n",
    "\n",
    "r2_score(y_train,y_pred_train)  *100"
   ]
  },
  {
   "cell_type": "code",
   "execution_count": null,
   "id": "2c9e2f73",
   "metadata": {},
   "outputs": [],
   "source": []
  }
 ],
 "metadata": {
  "kernelspec": {
   "display_name": "Python 3 (ipykernel)",
   "language": "python",
   "name": "python3"
  },
  "language_info": {
   "codemirror_mode": {
    "name": "ipython",
    "version": 3
   },
   "file_extension": ".py",
   "mimetype": "text/x-python",
   "name": "python",
   "nbconvert_exporter": "python",
   "pygments_lexer": "ipython3",
   "version": "3.9.7"
  }
 },
 "nbformat": 4,
 "nbformat_minor": 5
}
